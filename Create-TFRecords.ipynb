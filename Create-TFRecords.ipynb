{
 "cells": [
  {
   "cell_type": "markdown",
   "source": [
    "# Load Data"
   ],
   "metadata": {}
  },
  {
   "cell_type": "code",
   "execution_count": 1,
   "source": [
    "# LOAD LIBRARIES\r\n",
    "import numpy as np, pandas as pd, os\r\n",
    "import matplotlib.pyplot as plt, cv2\r\n",
    "import tensorflow as tf, re, math"
   ],
   "outputs": [],
   "metadata": {
    "_cell_guid": "b1076dfc-b9ad-4769-8c92-a6c4dae69d19",
    "_uuid": "8f2839f25d086af736a60e9eeb907d3b93b6e0e5"
   }
  },
  {
   "cell_type": "code",
   "execution_count": null,
   "source": [
    "# PATHS TO IMAGES\r\n",
    "PATH = '../test-data-0/'\r\n",
    "PATH2 = '../test-data-1/'\r\n",
    "IMGS = os.listdir(PATH); IMGS2 = os.listdir(PATH2)\r\n",
    "print('There are %i train images and %i test images'%(len(IMGS),len(IMGS2)))"
   ],
   "outputs": [],
   "metadata": {}
  },
  {
   "cell_type": "code",
   "execution_count": null,
   "source": [
    "# LOAD TRAIN META DATA\r\n",
    "df = pd.read_csv('../test-data.csv')\r\n",
    "df.rename({'image_id':'image_name'},axis=1,inplace=True)\r\n",
    "df.head()"
   ],
   "outputs": [],
   "metadata": {}
  },
  {
   "cell_type": "code",
   "execution_count": null,
   "source": [
    "# LOAD TEST DATA\r\n",
    "test = pd.read_csv('../test.csv')\r\n",
    "test.head()"
   ],
   "outputs": [],
   "metadata": {}
  },
  {
   "cell_type": "markdown",
   "source": [
    "# Label Encode Meta Data"
   ],
   "metadata": {}
  },
  {
   "cell_type": "code",
   "execution_count": 5,
   "source": [
    "# COMBINE TRAIN AND TEST TO ENCODE TOGETHER\r\n",
    "cols = test.columns\r\n",
    "comb = pd.concat([df[cols],test[cols]],ignore_index=True,axis=0).reset_index(drop=True)"
   ],
   "outputs": [],
   "metadata": {}
  },
  {
   "cell_type": "code",
   "execution_count": null,
   "source": [
    "# LABEL ENCODE ALL STRINGS\r\n",
    "cats = ['feature-0','feature-1','feature-2'] \r\n",
    "for c in cats:\r\n",
    "    comb[c],mp = comb[c].factorize()\r\n",
    "    print(mp)\r\n",
    "print('Imputing Age NaN count =',comb.age_approx.isnull().sum())\r\n",
    "comb.age_approx.fillna(comb.age_approx.mean(),inplace=True)\r\n",
    "comb['age_approx'] = comb.age_approx.astype('int')"
   ],
   "outputs": [],
   "metadata": {}
  },
  {
   "cell_type": "code",
   "execution_count": 7,
   "source": [
    "# REWRITE DATA TO DATAFRAMES\r\n",
    "df[cols] = comb.loc[:df.shape[0]-1,cols].values\r\n",
    "test[cols] = comb.loc[df.shape[0]:,cols].values"
   ],
   "outputs": [],
   "metadata": {}
  },
  {
   "cell_type": "code",
   "execution_count": null,
   "source": [
    "# LABEL ENCODE TRAIN SOURCE\r\n",
    "df.source,mp = df.source.factorize()\r\n",
    "print(mp)"
   ],
   "outputs": [],
   "metadata": {}
  },
  {
   "cell_type": "markdown",
   "source": [
    "# Write TFRecords - Train"
   ],
   "metadata": {}
  },
  {
   "cell_type": "code",
   "execution_count": 9,
   "source": [
    "def _bytes_feature(value):\r\n",
    "  \"\"\"Returns a bytes_list from a string / byte.\"\"\"\r\n",
    "  if isinstance(value, type(tf.constant(0))):\r\n",
    "    value = value.numpy() # BytesList won't unpack a string from an EagerTensor.\r\n",
    "  return tf.train.Feature(bytes_list=tf.train.BytesList(value=[value]))\r\n",
    "\r\n",
    "def _float_feature(value):\r\n",
    "  \"\"\"Returns a float_list from a float / double.\"\"\"\r\n",
    "  return tf.train.Feature(float_list=tf.train.FloatList(value=[value]))\r\n",
    "\r\n",
    "def _int64_feature(value):\r\n",
    "  \"\"\"Returns an int64_list from a bool / enum / int / uint.\"\"\"\r\n",
    "  return tf.train.Feature(int64_list=tf.train.Int64List(value=[value]))"
   ],
   "outputs": [],
   "metadata": {}
  },
  {
   "cell_type": "code",
   "execution_count": 10,
   "source": [
    "def serialize_example(feature0, feature1, feature2, feature3, feature4, feature5, feature6, feature7):\r\n",
    "  feature = {\r\n",
    "      'feature0': _bytes_feature(feature0),\r\n",
    "      'feature1': _bytes_feature(feature1),\r\n",
    "      'feature2': _int64_feature(feature2),\r\n",
    "      'feature3': _int64_feature(feature3),\r\n",
    "      'feature4': _int64_feature(feature4),\r\n",
    "      'feature5': _int64_feature(feature5),\r\n",
    "      'feature6': _int64_feature(feature6),\r\n",
    "      'feature7': _int64_feature(feature7)\r\n",
    "  }\r\n",
    "  example_proto = tf.train.Example(features=tf.train.Features(feature=feature))\r\n",
    "  return example_proto.SerializeToString()"
   ],
   "outputs": [],
   "metadata": {}
  },
  {
   "cell_type": "code",
   "execution_count": null,
   "source": [
    "SIZE = 2071\r\n",
    "CT = len(IMGS)//SIZE + int(len(IMGS)%SIZE!=0)\r\n",
    "for j in range(CT):\r\n",
    "    print(); print('Writing TFRecord %i of %i...'%(j,CT))\r\n",
    "    CT2 = min(SIZE,len(IMGS)-j*SIZE)\r\n",
    "    with tf.io.TFRecordWriter('train%.2i-%i.tfrec'%(j,CT2)) as writer:\r\n",
    "        for k in range(CT2):\r\n",
    "            img = cv2.imread(PATH+IMGS[SIZE*j+k])\r\n",
    "            img = cv2.cvtColor(img, cv2.COLOR_RGB2BGR) # Fix incorrect colors\r\n",
    "            img = cv2.imencode('.jpg', img, (cv2.IMWRITE_JPEG_QUALITY, 94))[1].tostring()\r\n",
    "            name = IMGS[SIZE*j+k].split('.')[0]\r\n",
    "            row = df.loc[df.image_name==name]\r\n",
    "            example = serialize_example(\r\n",
    "                img, str.encode(name),\r\n",
    "                row.feature0.values[0],\r\n",
    "                row.feature1.values[0],\r\n",
    "                row.feature2.values[0],                        \r\n",
    "                row.feature3.values[0],\r\n",
    "                row.feature4.values[0],\r\n",
    "                row.feature5.values[0])\r\n",
    "            writer.write(example)\r\n",
    "            if k%100==0: print(k,', ',end='')"
   ],
   "outputs": [],
   "metadata": {}
  },
  {
   "cell_type": "code",
   "execution_count": null,
   "source": [
    "! ls -l"
   ],
   "outputs": [],
   "metadata": {}
  },
  {
   "cell_type": "markdown",
   "source": [
    "# Write TFRecords - Test"
   ],
   "metadata": {}
  },
  {
   "cell_type": "code",
   "execution_count": 13,
   "source": [
    "def serialize_example2(feature0, feature1, feature2, feature3, feature4, feature5): \r\n",
    "  feature = {\r\n",
    "      'feature0': _bytes_feature(feature0),\r\n",
    "      'feature1': _bytes_feature(feature1),\r\n",
    "      'feature2': _int64_feature(feature2),\r\n",
    "      'feature3': _int64_feature(feature3),\r\n",
    "      'feature4': _int64_feature(feature4),\r\n",
    "      'feature5': _int64_feature(feature5),\r\n",
    "  }\r\n",
    "  example_proto = tf.train.Example(features=tf.train.Features(feature=feature))\r\n",
    "  return example_proto.SerializeToString()"
   ],
   "outputs": [],
   "metadata": {}
  },
  {
   "cell_type": "code",
   "execution_count": null,
   "source": [
    "SIZE = 687\r\n",
    "CT = len(IMGS2)//SIZE + int(len(IMGS2)%SIZE!=0)\r\n",
    "for j in range(CT):\r\n",
    "    print(); print('Writing TFRecord %i of %i...'%(j,CT))\r\n",
    "    CT2 = min(SIZE,len(IMGS2)-j*SIZE)\r\n",
    "    with tf.io.TFRecordWriter('test%.2i-%i.tfrec'%(j,CT2)) as writer:\r\n",
    "        for k in range(CT2):\r\n",
    "            img = cv2.imread(PATH2+IMGS2[SIZE*j+k])\r\n",
    "            img = cv2.cvtColor(img, cv2.COLOR_RGB2BGR) # Fix incorrect colors\r\n",
    "            img = cv2.imencode('.jpg', img, (cv2.IMWRITE_JPEG_QUALITY, 94))[1].tostring()\r\n",
    "            name = IMGS2[SIZE*j+k].split('.')[0]\r\n",
    "            row = test.loc[test.image_name==name]\r\n",
    "            example = serialize_example2(\r\n",
    "                img, str.encode(name),\r\n",
    "                row.feature0.values[0],\r\n",
    "                row.feature1.values[0],\r\n",
    "                row.feature2.values[0],                        \r\n",
    "                row.feature3.values[0])\r\n",
    "            writer.write(example)\r\n",
    "            if k%100==0: print(k,', ',end='')"
   ],
   "outputs": [],
   "metadata": {}
  }
 ],
 "metadata": {
  "kernelspec": {
   "display_name": "Python 3",
   "language": "python",
   "name": "python3"
  },
  "language_info": {
   "codemirror_mode": {
    "name": "ipython",
    "version": 3
   },
   "file_extension": ".py",
   "mimetype": "text/x-python",
   "name": "python",
   "nbconvert_exporter": "python",
   "pygments_lexer": "ipython3",
   "version": "3.7.6"
  }
 },
 "nbformat": 4,
 "nbformat_minor": 4
}